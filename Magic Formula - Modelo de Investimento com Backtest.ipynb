{
 "cells": [
  {
   "cell_type": "markdown",
   "id": "339e4dd6",
   "metadata": {},
   "source": [
    "# Magic Formula - Modelo de Investimento com Backtest"
   ]
  },
  {
   "cell_type": "markdown",
   "id": "3828fccf",
   "metadata": {},
   "source": [
    "## Desafio:\n",
    "\n",
    "- Testar se a regra de investimento da fórmula mágica de Joel Grenblatt funcionou no Brasil nos últimos anos.\n",
    "\n",
    "## Passo a passo:\n",
    "\n",
    "* Passo 1 - Importar as bibliotecas;\n",
    "* Passo 2 - Baixar os dados disponibilizados;\n",
    "* Passo 3 - Pegar as datas que iremos balancear a carteira;\n",
    "* Passo 4 - Filtrar a liquidez;\n",
    "* Passo 5 - Criar o ranking dos indicadores;\n",
    "* Passo 6 - Criar as carteiras;\n",
    "* Passo 7 - Calcular a rentabilidade por carteira;\n",
    "* Passo 8 - Carcular a rentabilidade do modelo;\n",
    "* Passo 9 - Calcular a rentabilidade do ibovespa no mesmo período;\n",
    "* Passo 10 - Analisar os resultados."
   ]
  },
  {
   "cell_type": "code",
   "execution_count": null,
   "id": "f4103d0e",
   "metadata": {},
   "outputs": [],
   "source": [
    "## Passo 1: Importando os módulos necessários\n",
    "\n",
    "import pandas as pd\n",
    "import quantstats as qs\n"
   ]
  }
 ],
 "metadata": {
  "kernelspec": {
   "display_name": "Python 3 (ipykernel)",
   "language": "python",
   "name": "python3"
  },
  "language_info": {
   "codemirror_mode": {
    "name": "ipython",
    "version": 3
   },
   "file_extension": ".py",
   "mimetype": "text/x-python",
   "name": "python",
   "nbconvert_exporter": "python",
   "pygments_lexer": "ipython3",
   "version": "3.10.9"
  }
 },
 "nbformat": 4,
 "nbformat_minor": 5
}
